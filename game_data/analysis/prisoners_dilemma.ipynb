{
 "cells": [
  {
   "cell_type": "markdown",
   "metadata": {},
   "source": [
    "# Load Modules and Database"
   ]
  },
  {
   "cell_type": "code",
   "execution_count": 1,
   "metadata": {},
   "outputs": [],
   "source": [
    "import pandas as pd\n",
    "import matplotlib.pyplot as plt\n",
    "import matplotlib.animation as aniplt\n",
    "from tqdm import tqdm\n",
    "import gc"
   ]
  },
  {
   "cell_type": "code",
   "execution_count": 2,
   "metadata": {},
   "outputs": [],
   "source": [
    "database = \"../database/prisoners_dilemma.json\"\n",
    "with open(database, \"r\") as database_file:\n",
    "    data = pd.read_json(database_file)"
   ]
  },
  {
   "cell_type": "markdown",
   "metadata": {},
   "source": [
    "# Pre Processing"
   ]
  },
  {
   "cell_type": "code",
   "execution_count": 3,
   "metadata": {},
   "outputs": [],
   "source": [
    "def reduce_data(x: list[dict]) -> list[list]:\n",
    "    y = [list(data.values()) for data in x]\n",
    "    return y \n",
    "\n",
    "data[\"moves_data\"] = data[\"moves_data\"].apply(reduce_data)"
   ]
  },
  {
   "cell_type": "markdown",
   "metadata": {},
   "source": [
    "# Visualising Player Growth"
   ]
  },
  {
   "cell_type": "code",
   "execution_count": null,
   "metadata": {},
   "outputs": [
    {
     "name": "stderr",
     "output_type": "stream",
     "text": [
      "Processing Game Data For Round 0: 100%|██████████████████████████████████████████████████████████████████████████████████████████████████████████████████████████████████████████████| 36/36 [00:02<00:00, 17.78it/s]\n"
     ]
    },
    {
     "name": "stdout",
     "output_type": "stream",
     "text": [
      "Creating plot data.\n",
      "Creating animation data.\n",
      "Saving animation to disk.\n"
     ]
    }
   ],
   "source": [
    "def score_moves(player1_move: str, player2_move: str) -> tuple[int, int]:\n",
    "    \"\"\"\n",
    "    This function maps the results into the scoreboard.\n",
    "\n",
    "    Args:\n",
    "        player1_move (str): The move made by the first player.\n",
    "        player2_move (str): The move made by the second player.\n",
    "\n",
    "    Returns:\n",
    "        tuple[int,int]: A tuple of strings containing the points to be awarded to each player.\n",
    "    \"\"\"\n",
    "    if (player1_move == \"cooperate\") and (player2_move == \"cooperate\"):\n",
    "        return (2, 2)\n",
    "    elif (player1_move == \"cooperate\") and (player2_move == \"defect\"):\n",
    "        return (0, 3)\n",
    "    elif (player1_move == \"defect\") and (player2_move == \"cooperate\"):\n",
    "        return (3, 0)\n",
    "    elif (player1_move == \"defect\") and (player2_move == \"defect\"):\n",
    "        return (1, 1)\n",
    "    else:\n",
    "        print(\n",
    "            f\"Invalid move by the players: Player1: {player1_move}, Player2: {player2_move}. Please fix this.\"\n",
    "        )\n",
    "        exit(0)\n",
    "\n",
    "def create_chart_element(ax, data):\n",
    "    return ax.barh(data[0], data[1])\n",
    "\n",
    "# Process data for round 1\n",
    "# For each fixture in this round plot the progress of each player on a bar chart.\n",
    "for round_number in list(data[\"round_id\"].unique()):\n",
    "    round_data = data[data[\"round_id\"] == round_number]\n",
    "    total_players = set(data.player2.unique()).union(set(data.player1.unique()))\n",
    "    analysis_scoreboard = {}\n",
    "    for player in total_players:\n",
    "        analysis_scoreboard[player] = 0\n",
    "    \n",
    "    # Create a plot.\n",
    "    figure, ax = plt.subplots()\n",
    "    figure.set_figheight(10)\n",
    "    figure.set_figwidth(15)\n",
    "    ax.set_title(f\"Round: {round}\")\n",
    "    ax.set_xlabel(\"Points\")\n",
    "    ax.set_ylabel(\"Strategies\")\n",
    "    \n",
    "    # Create container for each stage and return back to the caller.\n",
    "    strategy_wise_data = []\n",
    "    for index in tqdm(range(len(round_data)), desc= f\"Processing Game Data For Round {round_number}\"):\n",
    "        for move in round_data.iloc[index][\"moves_data\"]:\n",
    "            strategy1_points, strategy2_points = score_moves(move[0], move[1])\n",
    "            analysis_scoreboard[round_data.iloc[index][\"player1\"]] += strategy1_points\n",
    "            analysis_scoreboard[round_data.iloc[index][\"player2\"]] += strategy2_points\n",
    "            strategy_wise_data.append([\n",
    "                list(analysis_scoreboard.keys()),\n",
    "                list(analysis_scoreboard.values()),\n",
    "            ])\n",
    "    del round_data\n",
    "    gc.collect()\n",
    "    print(\"Creating plot data.\")\n",
    "    strategy_wise_data = [ax.barh(element[0], element[1]) for element in strategy_wise_data]\n",
    "    print(\"Creating animation data.\")\n",
    "    animation_data = aniplt.ArtistAnimation(fig=figure, artists=strategy_wise_data, interval=1)\n",
    "    del strategy_wise_data\n",
    "    gc.collect()\n",
    "    print(\"Saving animation to disk.\")\n",
    "    animation_data.save(\n",
    "        f\"../visuals/prisoners_dilemma_round{round_number}.mp4\",\n",
    "        writer=aniplt.FFMpegWriter(fps=30),\n",
    "    )\n",
    "    del animation_data\n",
    "    gc.collect()\n",
    "\n",
    "    # Reset the scoreboard.\n",
    "    analysis_scoreboard = {}\n",
    "    for player in total_players:\n",
    "        analysis_scoreboard[player] = 0\n",
    "    print(f\"Round {round_number} analysis complete\")"
   ]
  },
  {
   "cell_type": "code",
   "execution_count": null,
   "metadata": {},
   "outputs": [],
   "source": []
  }
 ],
 "metadata": {
  "kernelspec": {
   "display_name": "Python 3 (ipykernel)",
   "language": "python",
   "name": "python3"
  },
  "language_info": {
   "codemirror_mode": {
    "name": "ipython",
    "version": 3
   },
   "file_extension": ".py",
   "mimetype": "text/x-python",
   "name": "python",
   "nbconvert_exporter": "python",
   "pygments_lexer": "ipython3",
   "version": "3.11.2"
  }
 },
 "nbformat": 4,
 "nbformat_minor": 4
}
